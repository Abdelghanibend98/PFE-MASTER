{
 "cells": [
  {
   "cell_type": "code",
   "execution_count": 1,
   "id": "7c7399dc",
   "metadata": {},
   "outputs": [],
   "source": [
    "import tensorflow as tf\n",
    "import pyodbc\n",
    "import pandas as ps\n",
    "import numpy as np\n",
    "\n",
    "with open('DATASET.npy', 'rb') as f:\n",
    "    targets = np.load(f)\n",
    "    notes = np.load(f)\n",
    "    "
   ]
  },
  {
   "cell_type": "code",
   "execution_count": 8,
   "id": "f6935d37",
   "metadata": {},
   "outputs": [],
   "source": [
    "class Modele(tf.keras.Model):\n",
    "\n",
    "    def __init__(self):\n",
    "        super(Modele, self).__init__()\n",
    "        self.conv_layer_one = tf.keras.layers.Conv1D(11, kernel_size=1, strides=1, activation='relu', padding='same', name='conv_layer_one')\n",
    "        self.conv_layer_two = tf.keras.layers.Conv1D(11, kernel_size=3, strides=3,activation='relu', padding='same', name='conv_layer_two')\n",
    "        self.flatten_layer = tf.keras.layers.Flatten(name='flatten_layer')\n",
    "        self.input_layer = tf.keras.layers.Dense(11, activation='relu', name='input_layer')\n",
    "        self.output_layer = tf.keras.layers.Dense(2, activation='softmax', name='output_layer')\n",
    "\n",
    "    def call(self, notes):\n",
    "        conv_layer_one = self.conv_layer_one(notes)\n",
    "        conv_layer_two = self.conv_layer_two(conv_layer_one)\n",
    "        flatten_layer = self.flatten_layer(conv_layer_two)\n",
    "        input_layer = self.input_layer(flatten_layer)\n",
    "        output_layer = self.output_layer(input_layer)\n",
    "        return [conv_layer_one, conv_layer_two, flatten_layer, input_layer, output_layer]\n"
   ]
  },
  {
   "cell_type": "code",
   "execution_count": 10,
   "id": "8c085df2",
   "metadata": {},
   "outputs": [],
   "source": [
    "model = Modele()\n",
    "# model.compile(\n",
    "#     loss=\"sparse_categorical_crossentropy\",\n",
    "#     optimizer=\"sgd\",\n",
    "#     metrics=[\"accuracy\"]\n",
    "# )\n",
    "# model.fit(notes[20:120], targets[20:120], epochs=15)\n",
    "# model.save(\"my_model\", save_format=\"tf\")\n",
    "\n"
   ]
  },
  {
   "cell_type": "code",
   "execution_count": 12,
   "id": "41eea69f",
   "metadata": {},
   "outputs": [
    {
     "name": "stdout",
     "output_type": "stream",
     "text": [
      "[[[ 2.5   4.5   9.75  3.   10.5   4.    3.5   6.75 10.   16.25  8.  ]\n",
      "  [ 8.5  12.5  13.5  11.5  15.5   9.   10.   16.   12.5  16.25 15.  ]\n",
      "  [ 2.5   4.5  15.    3.   10.5   4.    3.5  12.5  10.   16.25  8.  ]]]\n",
      "[[[ 0.         0.        14.4327345  0.         0.677413   2.5498776\n",
      "    0.        15.368536   0.         1.3464167  9.198345 ]\n",
      "  [ 0.         4.588136  24.863972   0.         0.         0.\n",
      "    0.        21.70427    0.         2.8106065 10.043453 ]\n",
      "  [ 0.         2.4518328 16.428509   0.         1.9683514  3.2462864\n",
      "    0.        17.758509   0.         3.5610597 10.641653 ]]]\n",
      "[[[0.         7.6752796  5.1050854  2.3596122  0.         8.40921\n",
      "   0.08810377 0.         0.         4.953055   0.        ]]]\n",
      "[[0.         7.6752796  5.1050854  2.3596122  0.         8.40921\n",
      "  0.08810377 0.         0.         4.953055   0.        ]]\n",
      "[[1.0663295 1.7727486 0.        7.5503616 0.        0.        1.6480275\n",
      "  0.        7.8635335 3.1231053 0.       ]]\n"
     ]
    }
   ],
   "source": [
    "# loaded_model = tf.keras.models.load_model(\"my_model\")\n",
    "predict = model.predict(notes[15:16])\n",
    "print(notes[15:16])\n",
    "print(predict[0])\n",
    "print(predict[1])\n",
    "print(predict[2])\n",
    "print(predict[3])\n",
    "print(predict[4])\n",
    "\n",
    "# print(notes[15:16])\n"
   ]
  },
  {
   "cell_type": "code",
   "execution_count": null,
   "id": "b7aed63d",
   "metadata": {},
   "outputs": [],
   "source": []
  }
 ],
 "metadata": {
  "kernelspec": {
   "display_name": "Python 3",
   "language": "python",
   "name": "python3"
  },
  "language_info": {
   "codemirror_mode": {
    "name": "ipython",
    "version": 3
   },
   "file_extension": ".py",
   "mimetype": "text/x-python",
   "name": "python",
   "nbconvert_exporter": "python",
   "pygments_lexer": "ipython3",
   "version": "3.7.7"
  }
 },
 "nbformat": 4,
 "nbformat_minor": 5
}
